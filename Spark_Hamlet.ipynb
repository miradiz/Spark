{
 "cells": [
  {
   "cell_type": "markdown",
   "metadata": {},
   "source": [
    "## Spark Hamlet\n",
    "\n",
    "(c) Miradiz Rakhmatov\n",
    "\n",
    "This are my notes and experements with Spark. In this project, my goal is to clean the Hamlet dataset so that it is ready for analysis later. I will mainly use map and filter to transform the dataset into a \"clean\" one."
   ]
  },
  {
   "cell_type": "code",
   "execution_count": 1,
   "metadata": {},
   "outputs": [],
   "source": [
    "import findspark"
   ]
  },
  {
   "cell_type": "code",
   "execution_count": 2,
   "metadata": {},
   "outputs": [],
   "source": [
    "findspark.init('/users/miradiz/Downloads/spark-3.1.2-bin-hadoop3.2/')"
   ]
  },
  {
   "cell_type": "code",
   "execution_count": 3,
   "metadata": {},
   "outputs": [],
   "source": [
    "import pyspark"
   ]
  },
  {
   "cell_type": "code",
   "execution_count": 4,
   "metadata": {},
   "outputs": [],
   "source": [
    "## A SparkContext represents the connection to a Spark cluster, and can be used to create RDDs\n",
    "sc = pyspark.SparkContext()"
   ]
  },
  {
   "cell_type": "code",
   "execution_count": 5,
   "metadata": {},
   "outputs": [
    {
     "data": {
      "text/plain": [
       "['hamlet@0\\t\\tHAMLET',\n",
       " 'hamlet@8',\n",
       " 'hamlet@9',\n",
       " 'hamlet@10\\t\\tDRAMATIS PERSONAE',\n",
       " 'hamlet@29']"
      ]
     },
     "execution_count": 5,
     "metadata": {},
     "output_type": "execute_result"
    }
   ],
   "source": [
    "raw_hamlet = sc.textFile('hamlet.txt')\n",
    "raw_hamlet.take(5)"
   ]
  },
  {
   "cell_type": "markdown",
   "metadata": {},
   "source": [
    "## Step 1\n",
    "\n",
    "Let's split the lines on \"\\t\" delimiter "
   ]
  },
  {
   "cell_type": "code",
   "execution_count": 6,
   "metadata": {},
   "outputs": [
    {
     "data": {
      "text/plain": [
       "[['hamlet@0', '', 'HAMLET'],\n",
       " ['hamlet@8'],\n",
       " ['hamlet@9'],\n",
       " ['hamlet@10', '', 'DRAMATIS PERSONAE'],\n",
       " ['hamlet@29']]"
      ]
     },
     "execution_count": 6,
     "metadata": {},
     "output_type": "execute_result"
    }
   ],
   "source": [
    "hamlet = raw_hamlet.map(lambda line: line.split('\\t'))\n",
    "hamlet.take(5)"
   ]
  },
  {
   "cell_type": "markdown",
   "metadata": {},
   "source": [
    "## Step 2\n",
    "\n",
    "### ID transformation:\n",
    "\n",
    "Each id has 'hamlet@' before the integer. Let's remove 'hamlet@' from each ID and only keep the integer part of the ID from each line"
   ]
  },
  {
   "cell_type": "code",
   "execution_count": 7,
   "metadata": {
    "scrolled": false
   },
   "outputs": [
    {
     "data": {
      "text/plain": [
       "[['0', '', 'HAMLET'],\n",
       " ['8'],\n",
       " ['9'],\n",
       " ['10', '', 'DRAMATIS PERSONAE'],\n",
       " ['29'],\n",
       " ['30'],\n",
       " ['31', 'CLAUDIUS', 'king of Denmark. (KING CLAUDIUS:)'],\n",
       " ['74'],\n",
       " ['75', 'HAMLET', 'son to the late, and nephew to the present king.'],\n",
       " ['131']]"
      ]
     },
     "execution_count": 7,
     "metadata": {},
     "output_type": "execute_result"
    }
   ],
   "source": [
    "def proper_id(line):\n",
    "    id = line[0]       ## Since each row is a list of strings, I'm going to assign the first element to 'id' variable\n",
    "    modified = id[7:]  ## [7:] extracts only integer part of the the string i.e 'hamlet@01' -> '01'\n",
    "    \n",
    "    new = list()       \n",
    "    new.append(modified)  ## append the integer part of the first element of the list \n",
    "    for i in line[1:]:    ## append everthing else that comes after ID \n",
    "        new.append(i)\n",
    "    \n",
    "    return new\n",
    "\n",
    "\n",
    "hamlet = hamlet.map(proper_id)\n",
    "hamlet.take(10)"
   ]
  },
  {
   "cell_type": "markdown",
   "metadata": {},
   "source": [
    "## Step 3:\n",
    "\n",
    "We want to eliminate elements that don't contain any words and just have an ID in them. These typically represent blank lines between paragraphs or sections in the play. We want to remove any blank values ('') within elements that don't contain any useful information for our analysis."
   ]
  },
  {
   "cell_type": "code",
   "execution_count": 8,
   "metadata": {
    "scrolled": false
   },
   "outputs": [
    {
     "data": {
      "text/plain": [
       "[['0', 'HAMLET'],\n",
       " ['10', 'DRAMATIS PERSONAE'],\n",
       " ['31', 'CLAUDIUS', 'king of Denmark. (KING CLAUDIUS:)'],\n",
       " ['75', 'HAMLET', 'son to the late, and nephew to the present king.'],\n",
       " ['132', 'POLONIUS', 'lord chamberlain. (LORD POLONIUS:)'],\n",
       " ['177', 'HORATIO', 'friend to Hamlet.'],\n",
       " ['204', 'LAERTES', 'son to Polonius.'],\n",
       " ['230', 'LUCIANUS', 'nephew to the king.'],\n",
       " ['261', 'VOLTIMAND', '|'],\n",
       " ['273', '|'],\n",
       " ['276', 'CORNELIUS', '|'],\n",
       " ['288', '|'],\n",
       " ['291', 'ROSENCRANTZ', '|  courtiers.'],\n",
       " ['317', '|'],\n",
       " ['320', 'GUILDENSTERN', '|'],\n",
       " ['335', '|'],\n",
       " ['338', 'OSRIC', '|'],\n",
       " ['348', 'A Gentleman, (Gentlemen:)'],\n",
       " ['376', 'A Priest. (First Priest:)'],\n",
       " ['405', 'MARCELLUS', '|']]"
      ]
     },
     "execution_count": 8,
     "metadata": {},
     "output_type": "execute_result"
    }
   ],
   "source": [
    "hamlet = hamlet.filter(lambda line: len(line) > 1).map(lambda line: [i for i in line if i != \"\"])\n",
    "hamlet.take(20)"
   ]
  },
  {
   "cell_type": "markdown",
   "metadata": {},
   "source": [
    "## Step 4:\n",
    "\n",
    "Remove the elements of the lists that are pipe character \"|\"\n",
    "\n",
    "Note that we are removing an independent element of the list that is itself a pipe character "
   ]
  },
  {
   "cell_type": "code",
   "execution_count": 9,
   "metadata": {},
   "outputs": [
    {
     "data": {
      "text/plain": [
       "[['0', 'HAMLET'],\n",
       " ['10', 'DRAMATIS PERSONAE'],\n",
       " ['31', 'CLAUDIUS', 'king of Denmark. (KING CLAUDIUS:)'],\n",
       " ['75', 'HAMLET', 'son to the late, and nephew to the present king.'],\n",
       " ['132', 'POLONIUS', 'lord chamberlain. (LORD POLONIUS:)'],\n",
       " ['177', 'HORATIO', 'friend to Hamlet.'],\n",
       " ['204', 'LAERTES', 'son to Polonius.'],\n",
       " ['230', 'LUCIANUS', 'nephew to the king.'],\n",
       " ['261', 'VOLTIMAND'],\n",
       " ['273'],\n",
       " ['276', 'CORNELIUS'],\n",
       " ['288'],\n",
       " ['291', 'ROSENCRANTZ', '|  courtiers.'],\n",
       " ['317'],\n",
       " ['320', 'GUILDENSTERN']]"
      ]
     },
     "execution_count": 9,
     "metadata": {},
     "output_type": "execute_result"
    }
   ],
   "source": [
    "hamlet = hamlet.map(lambda line: [l for l in line if l != \"|\"])\n",
    "hamlet.take(15)"
   ]
  },
  {
   "cell_type": "markdown",
   "metadata": {},
   "source": [
    "## Step 5: \n",
    "\n",
    "The elements that had a signle string with pipe character were removed. But there are still some elements that have pipe characters inside them i.e ID 291. Let's replace the pipe character with blank space and remove the blank space from the beginning and the end of the string."
   ]
  },
  {
   "cell_type": "code",
   "execution_count": 10,
   "metadata": {},
   "outputs": [
    {
     "data": {
      "text/plain": [
       "[['0', 'HAMLET'],\n",
       " ['10', 'DRAMATIS PERSONAE'],\n",
       " ['31', 'CLAUDIUS', 'king of Denmark. (KING CLAUDIUS:)'],\n",
       " ['75', 'HAMLET', 'son to the late, and nephew to the present king.'],\n",
       " ['132', 'POLONIUS', 'lord chamberlain. (LORD POLONIUS:)'],\n",
       " ['177', 'HORATIO', 'friend to Hamlet.'],\n",
       " ['204', 'LAERTES', 'son to Polonius.'],\n",
       " ['230', 'LUCIANUS', 'nephew to the king.'],\n",
       " ['261', 'VOLTIMAND'],\n",
       " ['273'],\n",
       " ['276', 'CORNELIUS'],\n",
       " ['288'],\n",
       " ['291', 'ROSENCRANTZ', 'courtiers.'],\n",
       " ['317'],\n",
       " ['320', 'GUILDENSTERN'],\n",
       " ['335'],\n",
       " ['338', 'OSRIC'],\n",
       " ['348', 'A Gentleman, (Gentlemen:)'],\n",
       " ['376', 'A Priest. (First Priest:)'],\n",
       " ['405', 'MARCELLUS']]"
      ]
     },
     "execution_count": 10,
     "metadata": {},
     "output_type": "execute_result"
    }
   ],
   "source": [
    "def f(line):\n",
    "    new_list = list()\n",
    "    for string in line:\n",
    "        modified = string.replace(\"|\", \"\").strip()  ## remove the newly added black space from two sides of the string\n",
    "        new_list.append(modified)\n",
    "    return new_list\n",
    "\n",
    "hamlet = hamlet.map(f)\n",
    "hamlet.take(20)"
   ]
  },
  {
   "cell_type": "markdown",
   "metadata": {},
   "source": [
    "## Step 6:\n",
    "\n",
    "Now let's remove the lines that only have ID in them"
   ]
  },
  {
   "cell_type": "code",
   "execution_count": 11,
   "metadata": {},
   "outputs": [
    {
     "data": {
      "text/plain": [
       "[['0', 'HAMLET'],\n",
       " ['10', 'DRAMATIS PERSONAE'],\n",
       " ['31', 'CLAUDIUS', 'king of Denmark. (KING CLAUDIUS:)'],\n",
       " ['75', 'HAMLET', 'son to the late, and nephew to the present king.'],\n",
       " ['132', 'POLONIUS', 'lord chamberlain. (LORD POLONIUS:)'],\n",
       " ['177', 'HORATIO', 'friend to Hamlet.'],\n",
       " ['204', 'LAERTES', 'son to Polonius.'],\n",
       " ['230', 'LUCIANUS', 'nephew to the king.'],\n",
       " ['261', 'VOLTIMAND'],\n",
       " ['276', 'CORNELIUS'],\n",
       " ['291', 'ROSENCRANTZ', 'courtiers.'],\n",
       " ['320', 'GUILDENSTERN'],\n",
       " ['338', 'OSRIC'],\n",
       " ['348', 'A Gentleman, (Gentlemen:)'],\n",
       " ['376', 'A Priest. (First Priest:)'],\n",
       " ['405', 'MARCELLUS'],\n",
       " ['417', 'officers.'],\n",
       " ['431', 'BERNARDO'],\n",
       " ['444', 'FRANCISCO', 'a soldier.'],\n",
       " ['466', 'REYNALDO', 'servant to Polonius.'],\n",
       " ['496', 'Players.'],\n",
       " ['506', '(First Player:)'],\n",
       " ['523', '(Player King:)'],\n",
       " ['539', '(Player Queen:)'],\n",
       " ['557', 'Two Clowns, grave-diggers.']]"
      ]
     },
     "execution_count": 11,
     "metadata": {},
     "output_type": "execute_result"
    }
   ],
   "source": [
    "hamlet = hamlet.filter(lambda line: len(line) > 1)\n",
    "hamlet.take(25)"
   ]
  },
  {
   "cell_type": "markdown",
   "metadata": {},
   "source": [
    "## THE END:\n",
    "As you see above, data is now ready for analysis. "
   ]
  }
 ],
 "metadata": {
  "kernelspec": {
   "display_name": "Python 3",
   "language": "python",
   "name": "python3"
  },
  "language_info": {
   "codemirror_mode": {
    "name": "ipython",
    "version": 3
   },
   "file_extension": ".py",
   "mimetype": "text/x-python",
   "name": "python",
   "nbconvert_exporter": "python",
   "pygments_lexer": "ipython3",
   "version": "3.8.5"
  }
 },
 "nbformat": 4,
 "nbformat_minor": 4
}
